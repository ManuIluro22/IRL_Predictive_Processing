{
 "cells": [
  {
   "cell_type": "code",
   "execution_count": 20,
   "id": "initial_id",
   "metadata": {
    "collapsed": true,
    "ExecuteTime": {
     "end_time": "2024-06-20T16:53:37.731637900Z",
     "start_time": "2024-06-20T16:53:37.686687800Z"
    }
   },
   "outputs": [],
   "source": [
    "import pandas as pd\n",
    "import numpy as np"
   ]
  },
  {
   "cell_type": "code",
   "outputs": [],
   "source": [
    "irl_results = pd.read_excel(\"optimization_results.xlsx\")\n",
    "bc_results = pd.read_excel(\"outputs_bc.xlsx\")\n",
    "\n",
    "predictive_processing_dataset = pd.read_excel(\"RETOS_BEBRASK_long.xlsx\")\n",
    "scales = pd.read_excel(\"filled_scales_BEBRASK_RETOS.xlsx\")\n",
    "bc_results.drop(\"Unnamed: 0\", axis=1,inplace=True)\n",
    "irl_results.drop(\"Unnamed: 0\", axis=1,inplace=True)\n"
   ],
   "metadata": {
    "collapsed": false,
    "ExecuteTime": {
     "end_time": "2024-06-20T16:53:38.671431400Z",
     "start_time": "2024-06-20T16:53:37.843234400Z"
    }
   },
   "id": "1683949331333cfc",
   "execution_count": 21
  },
  {
   "cell_type": "code",
   "outputs": [
    {
     "data": {
      "text/plain": "                   Subject  Mean_Rating0  Dif_Match  Cor_Pred_Like\n0       PREDWELL_RETOS-1-1      2.888889   1.614379       0.113495\n1      PREDWELL_RETOS-10-1      2.533333   1.117647       0.214781\n2    PREDWELL_RETOS-1001-1      2.644444   1.494553       0.336312\n3    PREDWELL_RETOS-1002-1      2.711111   1.318083       0.450822\n4    PREDWELL_RETOS-1003-1      2.200000   1.424837       0.073526\n..                     ...           ...        ...            ...\n144     PREDWELL_RETOS-5-1      2.377778   1.300654       0.225374\n145     PREDWELL_RETOS-6-1      2.266667   1.152505       0.499722\n146     PREDWELL_RETOS-7-1      2.444444   1.352941       0.426911\n147     PREDWELL_RETOS-8-1      2.555556   1.117647       0.186173\n148     PREDWELL_RETOS-9-1      2.066667   1.202614       0.309141\n\n[149 rows x 4 columns]",
      "text/html": "<div>\n<style scoped>\n    .dataframe tbody tr th:only-of-type {\n        vertical-align: middle;\n    }\n\n    .dataframe tbody tr th {\n        vertical-align: top;\n    }\n\n    .dataframe thead th {\n        text-align: right;\n    }\n</style>\n<table border=\"1\" class=\"dataframe\">\n  <thead>\n    <tr style=\"text-align: right;\">\n      <th></th>\n      <th>Subject</th>\n      <th>Mean_Rating0</th>\n      <th>Dif_Match</th>\n      <th>Cor_Pred_Like</th>\n    </tr>\n  </thead>\n  <tbody>\n    <tr>\n      <th>0</th>\n      <td>PREDWELL_RETOS-1-1</td>\n      <td>2.888889</td>\n      <td>1.614379</td>\n      <td>0.113495</td>\n    </tr>\n    <tr>\n      <th>1</th>\n      <td>PREDWELL_RETOS-10-1</td>\n      <td>2.533333</td>\n      <td>1.117647</td>\n      <td>0.214781</td>\n    </tr>\n    <tr>\n      <th>2</th>\n      <td>PREDWELL_RETOS-1001-1</td>\n      <td>2.644444</td>\n      <td>1.494553</td>\n      <td>0.336312</td>\n    </tr>\n    <tr>\n      <th>3</th>\n      <td>PREDWELL_RETOS-1002-1</td>\n      <td>2.711111</td>\n      <td>1.318083</td>\n      <td>0.450822</td>\n    </tr>\n    <tr>\n      <th>4</th>\n      <td>PREDWELL_RETOS-1003-1</td>\n      <td>2.200000</td>\n      <td>1.424837</td>\n      <td>0.073526</td>\n    </tr>\n    <tr>\n      <th>...</th>\n      <td>...</td>\n      <td>...</td>\n      <td>...</td>\n      <td>...</td>\n    </tr>\n    <tr>\n      <th>144</th>\n      <td>PREDWELL_RETOS-5-1</td>\n      <td>2.377778</td>\n      <td>1.300654</td>\n      <td>0.225374</td>\n    </tr>\n    <tr>\n      <th>145</th>\n      <td>PREDWELL_RETOS-6-1</td>\n      <td>2.266667</td>\n      <td>1.152505</td>\n      <td>0.499722</td>\n    </tr>\n    <tr>\n      <th>146</th>\n      <td>PREDWELL_RETOS-7-1</td>\n      <td>2.444444</td>\n      <td>1.352941</td>\n      <td>0.426911</td>\n    </tr>\n    <tr>\n      <th>147</th>\n      <td>PREDWELL_RETOS-8-1</td>\n      <td>2.555556</td>\n      <td>1.117647</td>\n      <td>0.186173</td>\n    </tr>\n    <tr>\n      <th>148</th>\n      <td>PREDWELL_RETOS-9-1</td>\n      <td>2.066667</td>\n      <td>1.202614</td>\n      <td>0.309141</td>\n    </tr>\n  </tbody>\n</table>\n<p>149 rows × 4 columns</p>\n</div>"
     },
     "execution_count": 22,
     "metadata": {},
     "output_type": "execute_result"
    }
   ],
   "source": [
    "baseline = pd.read_excel(\"RETOS_BEBRASK_Baseline.xlsx\")\n",
    "baseline"
   ],
   "metadata": {
    "collapsed": false,
    "ExecuteTime": {
     "end_time": "2024-06-20T16:53:38.749101100Z",
     "start_time": "2024-06-20T16:53:38.676430400Z"
    }
   },
   "id": "cd4ce5bd4554a782",
   "execution_count": 22
  },
  {
   "cell_type": "code",
   "outputs": [],
   "source": [
    "def clean_and_convert(row):\n",
    "    numbers = []  # List to store the final numbers\n",
    "    current_number = \"\"  # Temporary string to build the current number\n",
    "    decimal_count = 0  # Counter for decimal places\n",
    "    in_decimal = False  # State to track if we are currently after a decimal point\n",
    "    in_exponent = False  # State to check if we are in the exponent part of a number\n",
    "\n",
    "    for char in row:\n",
    "        if char.isdigit():\n",
    "            if in_decimal and decimal_count < 3:\n",
    "                decimal_count += 1\n",
    "                current_number += char\n",
    "            elif not in_decimal or in_exponent:\n",
    "                current_number += char\n",
    "        elif char == '.' and not in_decimal and not in_exponent:\n",
    "            in_decimal = True\n",
    "            current_number += char\n",
    "            decimal_count = 0\n",
    "        elif (char == 'e' or char == 'E') and 'e' not in current_number and 'E' not in current_number:\n",
    "            in_exponent = True\n",
    "            current_number += char\n",
    "        elif (char == '+' or char == '-') and (current_number.endswith('e') or current_number.endswith('E')):\n",
    "            current_number += char\n",
    "        else:\n",
    "            # Finalize the current number when encountering non-numeric/non-decimal/non-exponent characters\n",
    "            if current_number:\n",
    "                try:\n",
    "                    numbers.append(float(current_number))\n",
    "                except ValueError:\n",
    "                    pass  # In case the conversion fails, ignore this number\n",
    "            current_number = \"\"\n",
    "            in_decimal = False\n",
    "            in_exponent = False\n",
    "            decimal_count = 0\n",
    "\n",
    "    # Add the last number if there's any leftover after the loop\n",
    "    if current_number:\n",
    "        try:\n",
    "            numbers.append(float(current_number))\n",
    "        except ValueError:\n",
    "            pass\n",
    "\n",
    "    # Convert list to a numpy array\n",
    "    numbers_array = np.array(numbers)\n",
    " \n",
    "    reshaped_array = numbers_array.reshape(2, 4)\n",
    "    return reshaped_array\n",
    "irl_results['best_rewards'] = irl_results['best_rewards'].apply(clean_and_convert)\n"
   ],
   "metadata": {
    "collapsed": false,
    "ExecuteTime": {
     "end_time": "2024-06-20T16:53:38.770112300Z",
     "start_time": "2024-06-20T16:53:38.744102100Z"
    }
   },
   "id": "ba2328ddc96d309f",
   "execution_count": 23
  },
  {
   "cell_type": "code",
   "outputs": [],
   "source": [
    "subject_removal = predictive_processing_dataset[\"DataFile.Basename\"].isin(scales[\"EPRIME_CODE\"])\n",
    "predictive_processing_dataset = predictive_processing_dataset[subject_removal].reset_index(drop=True)\n",
    "irl_results = irl_results[subject_removal].reset_index(drop=True)\n",
    "bc_results = bc_results[subject_removal].reset_index(drop=True)"
   ],
   "metadata": {
    "collapsed": false,
    "ExecuteTime": {
     "end_time": "2024-06-20T16:53:38.778088600Z",
     "start_time": "2024-06-20T16:53:38.750104600Z"
    }
   },
   "id": "8dc86021e1c33fed",
   "execution_count": 24
  },
  {
   "cell_type": "code",
   "outputs": [
    {
     "data": {
      "text/plain": "               EPRIME_CODE  Age  PA  NA.    ERQ_CR  ERQ_ES  UPPSP_NU  \\\n0       PREDWELL_RETOS-1-1   19  43   23  6.170000    5.75         9   \n1      PREDWELL_RETOS-10-1   22  32   14  4.830000    2.25         6   \n2     PREDWELL_RETOS-101-1   25  30   17  6.330000    1.75         8   \n3     PREDWELL_RETOS-102-1   20  31   20  4.670000    3.75         7   \n4     PREDWELL_RETOS-103-1   32  26   23  5.000000    5.00         8   \n..                     ...  ...  ..  ...       ...     ...       ...   \n144  PREDWELL_RETOS-1124-1   21  33   20  3.666667    3.75         8   \n145  PREDWELL_RETOS-1125-1   20  25   22  3.166667    5.75         4   \n146  PREDWELL_RETOS-1126-1   18  45   20  4.000000    4.00        11   \n147  PREDWELL_RETOS-1127-1   20  35   19  6.666667    2.50         5   \n148  PREDWELL_RETOS-1128-1   19  32   21  5.500000    2.50         9   \n\n     UPPSP_PU  UPPSP_SS  UPPSP_PMD  ...   RRQ_Rum   RRQ_Ref  ASI_P  ASI_C  \\\n0          11        12        5.0  ...  3.500000  4.170000    6.0    2.0   \n1           9         8        7.0  ...  1.670000  4.080000    2.0    1.0   \n2          14        14       12.0  ...  3.670000  3.830000    5.0    3.0   \n3           9        10        5.0  ...  3.750000  2.420000    2.0    5.0   \n4           8         8        6.0  ...  3.420000  3.170000    8.0    6.0   \n..        ...       ...        ...  ...       ...       ...    ...    ...   \n144         9        11        4.0  ...  3.833333  2.416667    3.0    5.0   \n145         6         9        6.0  ...  2.916667  3.583333    0.0    3.0   \n146        12        13        9.0  ...  2.166667  2.666667    7.0    2.0   \n147        10        14        6.0  ...  4.333333  2.500000    3.0    4.0   \n148         8         7        4.0  ...  3.500000  2.583333    3.0    0.0   \n\n     ASI_S  SPQ  SPQ_IR  MSSB_POS  MSSB_NEG  MSSB_DES  \n0       23    2       3         1         2         2  \n1        4    1       1         0         1         0  \n2       11    2       3         2         1         2  \n3       12    3       3         3         3         3  \n4       15    2       1         0         9         0  \n..     ...  ...     ...       ...       ...       ...  \n144     10    4       6         6         4         1  \n145      4    5       6         2        12         4  \n146      6    4       1         1         0         3  \n147      6    7       4         2         0         2  \n148      9    5       2         2         1         0  \n\n[149 rows x 30 columns]",
      "text/html": "<div>\n<style scoped>\n    .dataframe tbody tr th:only-of-type {\n        vertical-align: middle;\n    }\n\n    .dataframe tbody tr th {\n        vertical-align: top;\n    }\n\n    .dataframe thead th {\n        text-align: right;\n    }\n</style>\n<table border=\"1\" class=\"dataframe\">\n  <thead>\n    <tr style=\"text-align: right;\">\n      <th></th>\n      <th>EPRIME_CODE</th>\n      <th>Age</th>\n      <th>PA</th>\n      <th>NA.</th>\n      <th>ERQ_CR</th>\n      <th>ERQ_ES</th>\n      <th>UPPSP_NU</th>\n      <th>UPPSP_PU</th>\n      <th>UPPSP_SS</th>\n      <th>UPPSP_PMD</th>\n      <th>...</th>\n      <th>RRQ_Rum</th>\n      <th>RRQ_Ref</th>\n      <th>ASI_P</th>\n      <th>ASI_C</th>\n      <th>ASI_S</th>\n      <th>SPQ</th>\n      <th>SPQ_IR</th>\n      <th>MSSB_POS</th>\n      <th>MSSB_NEG</th>\n      <th>MSSB_DES</th>\n    </tr>\n  </thead>\n  <tbody>\n    <tr>\n      <th>0</th>\n      <td>PREDWELL_RETOS-1-1</td>\n      <td>19</td>\n      <td>43</td>\n      <td>23</td>\n      <td>6.170000</td>\n      <td>5.75</td>\n      <td>9</td>\n      <td>11</td>\n      <td>12</td>\n      <td>5.0</td>\n      <td>...</td>\n      <td>3.500000</td>\n      <td>4.170000</td>\n      <td>6.0</td>\n      <td>2.0</td>\n      <td>23</td>\n      <td>2</td>\n      <td>3</td>\n      <td>1</td>\n      <td>2</td>\n      <td>2</td>\n    </tr>\n    <tr>\n      <th>1</th>\n      <td>PREDWELL_RETOS-10-1</td>\n      <td>22</td>\n      <td>32</td>\n      <td>14</td>\n      <td>4.830000</td>\n      <td>2.25</td>\n      <td>6</td>\n      <td>9</td>\n      <td>8</td>\n      <td>7.0</td>\n      <td>...</td>\n      <td>1.670000</td>\n      <td>4.080000</td>\n      <td>2.0</td>\n      <td>1.0</td>\n      <td>4</td>\n      <td>1</td>\n      <td>1</td>\n      <td>0</td>\n      <td>1</td>\n      <td>0</td>\n    </tr>\n    <tr>\n      <th>2</th>\n      <td>PREDWELL_RETOS-101-1</td>\n      <td>25</td>\n      <td>30</td>\n      <td>17</td>\n      <td>6.330000</td>\n      <td>1.75</td>\n      <td>8</td>\n      <td>14</td>\n      <td>14</td>\n      <td>12.0</td>\n      <td>...</td>\n      <td>3.670000</td>\n      <td>3.830000</td>\n      <td>5.0</td>\n      <td>3.0</td>\n      <td>11</td>\n      <td>2</td>\n      <td>3</td>\n      <td>2</td>\n      <td>1</td>\n      <td>2</td>\n    </tr>\n    <tr>\n      <th>3</th>\n      <td>PREDWELL_RETOS-102-1</td>\n      <td>20</td>\n      <td>31</td>\n      <td>20</td>\n      <td>4.670000</td>\n      <td>3.75</td>\n      <td>7</td>\n      <td>9</td>\n      <td>10</td>\n      <td>5.0</td>\n      <td>...</td>\n      <td>3.750000</td>\n      <td>2.420000</td>\n      <td>2.0</td>\n      <td>5.0</td>\n      <td>12</td>\n      <td>3</td>\n      <td>3</td>\n      <td>3</td>\n      <td>3</td>\n      <td>3</td>\n    </tr>\n    <tr>\n      <th>4</th>\n      <td>PREDWELL_RETOS-103-1</td>\n      <td>32</td>\n      <td>26</td>\n      <td>23</td>\n      <td>5.000000</td>\n      <td>5.00</td>\n      <td>8</td>\n      <td>8</td>\n      <td>8</td>\n      <td>6.0</td>\n      <td>...</td>\n      <td>3.420000</td>\n      <td>3.170000</td>\n      <td>8.0</td>\n      <td>6.0</td>\n      <td>15</td>\n      <td>2</td>\n      <td>1</td>\n      <td>0</td>\n      <td>9</td>\n      <td>0</td>\n    </tr>\n    <tr>\n      <th>...</th>\n      <td>...</td>\n      <td>...</td>\n      <td>...</td>\n      <td>...</td>\n      <td>...</td>\n      <td>...</td>\n      <td>...</td>\n      <td>...</td>\n      <td>...</td>\n      <td>...</td>\n      <td>...</td>\n      <td>...</td>\n      <td>...</td>\n      <td>...</td>\n      <td>...</td>\n      <td>...</td>\n      <td>...</td>\n      <td>...</td>\n      <td>...</td>\n      <td>...</td>\n      <td>...</td>\n    </tr>\n    <tr>\n      <th>144</th>\n      <td>PREDWELL_RETOS-1124-1</td>\n      <td>21</td>\n      <td>33</td>\n      <td>20</td>\n      <td>3.666667</td>\n      <td>3.75</td>\n      <td>8</td>\n      <td>9</td>\n      <td>11</td>\n      <td>4.0</td>\n      <td>...</td>\n      <td>3.833333</td>\n      <td>2.416667</td>\n      <td>3.0</td>\n      <td>5.0</td>\n      <td>10</td>\n      <td>4</td>\n      <td>6</td>\n      <td>6</td>\n      <td>4</td>\n      <td>1</td>\n    </tr>\n    <tr>\n      <th>145</th>\n      <td>PREDWELL_RETOS-1125-1</td>\n      <td>20</td>\n      <td>25</td>\n      <td>22</td>\n      <td>3.166667</td>\n      <td>5.75</td>\n      <td>4</td>\n      <td>6</td>\n      <td>9</td>\n      <td>6.0</td>\n      <td>...</td>\n      <td>2.916667</td>\n      <td>3.583333</td>\n      <td>0.0</td>\n      <td>3.0</td>\n      <td>4</td>\n      <td>5</td>\n      <td>6</td>\n      <td>2</td>\n      <td>12</td>\n      <td>4</td>\n    </tr>\n    <tr>\n      <th>146</th>\n      <td>PREDWELL_RETOS-1126-1</td>\n      <td>18</td>\n      <td>45</td>\n      <td>20</td>\n      <td>4.000000</td>\n      <td>4.00</td>\n      <td>11</td>\n      <td>12</td>\n      <td>13</td>\n      <td>9.0</td>\n      <td>...</td>\n      <td>2.166667</td>\n      <td>2.666667</td>\n      <td>7.0</td>\n      <td>2.0</td>\n      <td>6</td>\n      <td>4</td>\n      <td>1</td>\n      <td>1</td>\n      <td>0</td>\n      <td>3</td>\n    </tr>\n    <tr>\n      <th>147</th>\n      <td>PREDWELL_RETOS-1127-1</td>\n      <td>20</td>\n      <td>35</td>\n      <td>19</td>\n      <td>6.666667</td>\n      <td>2.50</td>\n      <td>5</td>\n      <td>10</td>\n      <td>14</td>\n      <td>6.0</td>\n      <td>...</td>\n      <td>4.333333</td>\n      <td>2.500000</td>\n      <td>3.0</td>\n      <td>4.0</td>\n      <td>6</td>\n      <td>7</td>\n      <td>4</td>\n      <td>2</td>\n      <td>0</td>\n      <td>2</td>\n    </tr>\n    <tr>\n      <th>148</th>\n      <td>PREDWELL_RETOS-1128-1</td>\n      <td>19</td>\n      <td>32</td>\n      <td>21</td>\n      <td>5.500000</td>\n      <td>2.50</td>\n      <td>9</td>\n      <td>8</td>\n      <td>7</td>\n      <td>4.0</td>\n      <td>...</td>\n      <td>3.500000</td>\n      <td>2.583333</td>\n      <td>3.0</td>\n      <td>0.0</td>\n      <td>9</td>\n      <td>5</td>\n      <td>2</td>\n      <td>2</td>\n      <td>1</td>\n      <td>0</td>\n    </tr>\n  </tbody>\n</table>\n<p>149 rows × 30 columns</p>\n</div>"
     },
     "execution_count": 25,
     "metadata": {},
     "output_type": "execute_result"
    }
   ],
   "source": [
    "datafile_basename = predictive_processing_dataset[\"DataFile.Basename\"]\n",
    "df_to_merge = datafile_basename.to_frame(name='datafile_basename')\n",
    "merged_df = df_to_merge.merge(scales, left_on='datafile_basename', right_on='EPRIME_CODE', how='left')\n",
    "\n",
    "# Optionally, drop the EPRIME_CODE column if it's redundant now\n",
    "merged_df.drop('SUBJECT_CODE', axis=1, inplace=True)\n",
    "\n",
    "# If you need the 'scales' DataFrame but reordered, you can drop the 'datafile_basename'\n",
    "reordered_scales = merged_df.drop('datafile_basename', axis=1)\n",
    "\n",
    "# Display the reordered DataFrame\n",
    "reordered_scales"
   ],
   "metadata": {
    "collapsed": false,
    "ExecuteTime": {
     "end_time": "2024-06-20T16:53:38.847389300Z",
     "start_time": "2024-06-20T16:53:38.771101Z"
    }
   },
   "id": "76630bbbcf58f698",
   "execution_count": 25
  },
  {
   "cell_type": "markdown",
   "source": [],
   "metadata": {
    "collapsed": false
   },
   "id": "9ee3821fd77cff5c"
  },
  {
   "cell_type": "markdown",
   "source": [
    "### Analysis of Extracted Features"
   ],
   "metadata": {
    "collapsed": false
   },
   "id": "c22cda36c3f88037"
  },
  {
   "cell_type": "markdown",
   "source": [
    "#### Learning Rate after Match and after NonMatch"
   ],
   "metadata": {
    "collapsed": false
   },
   "id": "92d58dabd8ddbca5"
  },
  {
   "cell_type": "code",
   "outputs": [
    {
     "data": {
      "text/plain": "array([[<Axes: title={'center': 'beta_no_match'}>,\n        <Axes: title={'center': 'beta_match'}>]], dtype=object)"
     },
     "execution_count": 26,
     "metadata": {},
     "output_type": "execute_result"
    },
    {
     "data": {
      "text/plain": "<Figure size 640x480 with 2 Axes>",
      "image/png": "[encoded data removed]"
     },
     "metadata": {},
     "output_type": "display_data"
    }
   ],
   "source": [
    "from sklearn.preprocessing import  PowerTransformer\n",
    "\n",
    "irl_results[['beta_no_match', 'beta_match']].hist()"
   ],
   "metadata": {
    "collapsed": false,
    "ExecuteTime": {
     "end_time": "2024-06-20T16:53:41.111950200Z",
     "start_time": "2024-06-20T16:53:40.571761300Z"
    }
   },
   "id": "a81c0c0d3bad33f4",
   "execution_count": 26
  },
  {
   "cell_type": "code",
   "outputs": [
    {
     "data": {
      "text/plain": "array([[<Axes: title={'center': 'beta_no_match'}>,\n        <Axes: title={'center': 'beta_match'}>]], dtype=object)"
     },
     "execution_count": 27,
     "metadata": {},
     "output_type": "execute_result"
    },
    {
     "data": {
      "text/plain": "<Figure size 640x480 with 2 Axes>",
      "image/png": "[encoded data removed]"
     },
     "metadata": {},
     "output_type": "display_data"
    }
   ],
   "source": [
    "pt = PowerTransformer(method='box-cox', standardize=True)\n",
    "irl_results_transformed = irl_results.copy()\n",
    "\n",
    "irl_results_transformed[['beta_no_match', 'beta_match']] = pt.fit_transform(irl_results[['beta_no_match', 'beta_match']] + 1e-6)  # Adding a small\n",
    "irl_results_transformed[['beta_no_match', 'beta_match']].hist()\n"
   ],
   "metadata": {
    "collapsed": false,
    "ExecuteTime": {
     "end_time": "2024-06-20T16:53:41.975918800Z",
     "start_time": "2024-06-20T16:53:41.109932800Z"
    }
   },
   "id": "83410b62a4e8109a",
   "execution_count": 27
  },
  {
   "cell_type": "code",
   "outputs": [],
   "source": [
    "from scipy.stats import zscore\n",
    "\n",
    "skewed_columns = [\"UPPSP_PMD\", \"UPPSP_PSV\", \"ASI_P\", \"ASI_C\", \"MSSB_POS\", \"MSSB_NEG\", \"MSSB_DES\"]\n",
    "scales.rename(columns={'NA.': 'NA'}, inplace=True)\n",
    "\n",
    "scales_transformed = scales.copy()\n",
    "# Apply Box-Cox transformation to skewed variables\n",
    "pt = PowerTransformer(method='box-cox', standardize=False)\n",
    "scales_transformed[skewed_columns] = pt.fit_transform(scales_transformed[skewed_columns] + 1e-6)  # Adding a small\n",
    "metrics_columns = scales_transformed.drop([\"EPRIME_CODE\", \"SUBJECT_CODE\", \"Age\"], axis=1).columns.values\n",
    "\n",
    "scales_transformed[metrics_columns] = scales_transformed[metrics_columns].apply(zscore)\n"
   ],
   "metadata": {
    "collapsed": false,
    "ExecuteTime": {
     "end_time": "2024-06-20T16:53:42.920393500Z",
     "start_time": "2024-06-20T16:53:42.874377900Z"
    }
   },
   "id": "116c59128391b1cd",
   "execution_count": 28
  },
  {
   "cell_type": "code",
   "outputs": [],
   "source": [
    "scales.rename(columns={'NA.': 'NA'}, inplace=True)\n"
   ],
   "metadata": {
    "collapsed": false,
    "ExecuteTime": {
     "end_time": "2024-06-20T16:53:44.786682400Z",
     "start_time": "2024-06-20T16:53:44.749641200Z"
    }
   },
   "id": "4fc8a001f53b047",
   "execution_count": 29
  },
  {
   "cell_type": "markdown",
   "source": [
    "### Normalizing data"
   ],
   "metadata": {
    "collapsed": false
   },
   "id": "fc02d6a6a6a90037"
  },
  {
   "cell_type": "code",
   "outputs": [],
   "source": [
    "irl_results_transformed_rewards = pd.DataFrame(\n",
    "    irl_results_transformed['best_rewards'].apply(lambda x: x.flatten()).tolist()\n",
    ")\n",
    "just_rewards = irl_results_transformed_rewards.copy()\n",
    "\n",
    "irl_results_transformed_rewards[\"alpha_match\"] = irl_results_transformed[\"beta_match\"]\n",
    "irl_results_transformed_rewards[\"alpha_no_match\"] = irl_results_transformed[\"beta_no_match\"]\n",
    "irl_results_transformed_rewards.columns = irl_results_transformed_rewards.columns.astype(str)\n",
    "\n"
   ],
   "metadata": {
    "collapsed": false,
    "ExecuteTime": {
     "end_time": "2024-06-20T16:53:45.375050200Z",
     "start_time": "2024-06-20T16:53:45.341946600Z"
    }
   },
   "id": "75573e150653391b",
   "execution_count": 30
  },
  {
   "cell_type": "code",
   "outputs": [],
   "source": [
    "from sklearn.preprocessing import StandardScaler\n",
    "\n",
    "# Load the dataset (mocking the data as no file is provided)\n",
    "just_rewards.columns = [\"rew_0_0\",\"rew_0_1\",\"rew_0_2\",\"rew_0_3\",\"rew_1_0\",\"rew_1_1\",\"rew_1_2\",\"rew_1_3\"]\n",
    "\n",
    "# Initialize the StandardScaler\n",
    "scaler = StandardScaler()\n",
    "\n",
    "# Standardize the 'rewards' column\n",
    "just_rewards_scaled = scaler.fit_transform(just_rewards)\n",
    "just_rewards_scaled = pd.DataFrame(just_rewards_scaled, index=just_rewards.index, columns=just_rewards.columns)\n",
    "\n",
    "\n"
   ],
   "metadata": {
    "collapsed": false,
    "ExecuteTime": {
     "end_time": "2024-06-20T16:53:45.840123900Z",
     "start_time": "2024-06-20T16:53:45.800547700Z"
    }
   },
   "id": "df613af0100f247d",
   "execution_count": 31
  },
  {
   "cell_type": "code",
   "outputs": [
    {
     "name": "stdout",
     "output_type": "stream",
     "text": [
      "ANOVA Results for metric: PA\n",
      "               sum_sq     df         F    PR(>F)\n",
      "rew_0_0     59.749989    1.0  1.466843  0.227885\n",
      "rew_0_1      1.109604    1.0  0.027240  0.869145\n",
      "rew_0_2      0.060915    1.0  0.001495  0.969208\n",
      "rew_0_3     11.781017    1.0  0.289220  0.591575\n",
      "rew_1_0     29.987723    1.0  0.736189  0.392351\n",
      "rew_1_1     12.558869    1.0  0.308316  0.579601\n",
      "rew_1_2     26.943274    1.0  0.661448  0.417430\n",
      "rew_1_3    189.288257    1.0  4.646964  0.032818\n",
      "Residual  5702.724224  140.0       NaN       NaN\n",
      "\n",
      "\n",
      "ANOVA Results for metric: NA\n",
      "               sum_sq     df         F    PR(>F)\n",
      "rew_0_0      4.701062    1.0  0.171934  0.679033\n",
      "rew_0_1      3.456764    1.0  0.126426  0.722702\n",
      "rew_0_2      1.542231    1.0  0.056405  0.812618\n",
      "rew_0_3     26.139359    1.0  0.956008  0.329881\n",
      "rew_1_0      9.549249    1.0  0.349250  0.555491\n",
      "rew_1_1    159.394015    1.0  5.829599  0.017050\n",
      "rew_1_2    113.980480    1.0  4.168667  0.043056\n",
      "rew_1_3      6.446477    1.0  0.235770  0.628037\n",
      "Residual  3827.906769  140.0       NaN       NaN\n",
      "\n",
      "\n",
      "ANOVA Results for metric: UPPSP_SS\n",
      "               sum_sq     df         F    PR(>F)\n",
      "rew_0_0     46.543424    1.0  5.731589  0.017987\n",
      "rew_0_1     39.909862    1.0  4.914699  0.028242\n",
      "rew_0_2     41.138769    1.0  5.066033  0.025958\n",
      "rew_0_3     27.242578    1.0  3.354787  0.069135\n",
      "rew_1_0      1.831806    1.0  0.225578  0.635563\n",
      "rew_1_1      3.495757    1.0  0.430485  0.512828\n",
      "rew_1_2      2.170107    1.0  0.267238  0.606006\n",
      "rew_1_3      0.603277    1.0  0.074291  0.785591\n",
      "Residual  1136.871294  140.0       NaN       NaN\n",
      "\n",
      "\n",
      "ANOVA Results for metric: UPPSP_PMD\n",
      "              sum_sq     df         F    PR(>F)\n",
      "rew_0_0     1.042148    1.0  0.210452  0.647125\n",
      "rew_0_1     0.121536    1.0  0.024543  0.875737\n",
      "rew_0_2     4.466468    1.0  0.901962  0.343893\n",
      "rew_0_3    14.784906    1.0  2.985676  0.086209\n",
      "rew_1_0     1.213442    1.0  0.245043  0.621363\n",
      "rew_1_1    17.462668    1.0  3.526425  0.062478\n",
      "rew_1_2     2.122612    1.0  0.428642  0.513730\n",
      "rew_1_3    32.730125    1.0  6.609548  0.011187\n",
      "Residual  693.272457  140.0       NaN       NaN\n",
      "\n",
      "\n",
      "ANOVA Results for metric: UPPSP_PSV\n",
      "              sum_sq     df         F    PR(>F)\n",
      "rew_0_0    19.197352    1.0  2.780529  0.097652\n",
      "rew_0_1     0.206725    1.0  0.029942  0.862872\n",
      "rew_0_2     2.826203    1.0  0.409345  0.523348\n",
      "rew_0_3    28.502896    1.0  4.128337  0.044062\n",
      "rew_1_0     7.574638    1.0  1.097105  0.296707\n",
      "rew_1_1     1.055810    1.0  0.152923  0.696352\n",
      "rew_1_2     0.032716    1.0  0.004739  0.945217\n",
      "rew_1_3     5.624606    1.0  0.814664  0.368295\n",
      "Residual  966.589043  140.0       NaN       NaN\n",
      "\n",
      "\n",
      "ANOVA Results for metric: BIS\n",
      "               sum_sq     df         F    PR(>F)\n",
      "rew_0_0      3.645351    1.0  0.370493  0.543722\n",
      "rew_0_1      8.299005    1.0  0.843465  0.359987\n",
      "rew_0_2      1.602807    1.0  0.162900  0.687116\n",
      "rew_0_3     14.871137    1.0  1.511421  0.220985\n",
      "rew_1_0      0.164615    1.0  0.016731  0.897269\n",
      "rew_1_1     52.034560    1.0  5.288507  0.022946\n",
      "rew_1_2     94.077711    1.0  9.561542  0.002399\n",
      "rew_1_3      0.003839    1.0  0.000390  0.984269\n",
      "Residual  1377.484911  140.0       NaN       NaN\n",
      "\n",
      "ANOVA Results for metric: BAS_FS\n",
      "              sum_sq     df         F    PR(>F)\n",
      "rew_0_0    17.671502    1.0  4.424931  0.037206\n",
      "rew_0_1     7.866548    1.0  1.969778  0.162686\n",
      "rew_0_2    10.974588    1.0  2.748029  0.099614\n",
      "rew_0_3    19.272833    1.0  4.825903  0.029680\n",
      "rew_1_0     3.560393    1.0  0.891520  0.346692\n",
      "rew_1_1     4.043357    1.0  1.012454  0.316052\n",
      "rew_1_2     0.029595    1.0  0.007410  0.931523\n",
      "rew_1_3     3.988198    1.0  0.998642  0.319363\n",
      "Residual  559.107046  140.0       NaN       NaN\n",
      "\n",
      "\n",
      "ANOVA Results for metric: LOT_R\n",
      "               sum_sq     df         F    PR(>F)\n",
      "rew_0_0      1.778153    1.0  0.118448  0.731240\n",
      "rew_0_1     56.830753    1.0  3.785659  0.053697\n",
      "rew_0_2     64.354123    1.0  4.286812  0.040246\n",
      "rew_0_3     54.080356    1.0  3.602447  0.059753\n",
      "rew_1_0      1.002934    1.0  0.066808  0.796422\n",
      "rew_1_1     26.579822    1.0  1.770558  0.185476\n",
      "rew_1_2     28.052646    1.0  1.868667  0.173819\n",
      "rew_1_3      7.792701    1.0  0.519094  0.472430\n",
      "Residual  2101.696421  140.0       NaN       NaN\n",
      "\n",
      "\n",
      "ANOVA Results for metric: RRQ_Rum\n",
      "             sum_sq     df         F    PR(>F)\n",
      "rew_0_0    0.323920    1.0  0.519920  0.472078\n",
      "rew_0_1    0.012208    1.0  0.019595  0.888875\n",
      "rew_0_2    0.570259    1.0  0.915314  0.340358\n",
      "rew_0_3    0.316666    1.0  0.508277  0.477072\n",
      "rew_1_0    0.000007    1.0  0.000012  0.997297\n",
      "rew_1_1    2.675525    1.0  4.294447  0.040071\n",
      "rew_1_2    1.217951    1.0  1.954916  0.164269\n",
      "rew_1_3    0.008009    1.0  0.012856  0.909889\n",
      "Residual  87.222768  140.0       NaN       NaN\n",
      "\n",
      "\n",
      "ANOVA Results for metric: ASI_C\n",
      "               sum_sq     df         F    PR(>F)\n",
      "rew_0_0      2.121885    1.0  0.127078  0.722018\n",
      "rew_0_1      1.818446    1.0  0.108905  0.741887\n",
      "rew_0_2     68.860082    1.0  4.123969  0.044173\n",
      "rew_0_3     14.235986    1.0  0.852580  0.357412\n",
      "rew_1_0      6.229482    1.0  0.373078  0.542322\n",
      "rew_1_1     41.161848    1.0  2.465146  0.118654\n",
      "rew_1_2     61.640046    1.0  3.691567  0.056720\n",
      "rew_1_3      2.318288    1.0  0.138840  0.710000\n",
      "Residual  2337.653833  140.0       NaN       NaN\n",
      "\n",
      "ANOVA Results for metric: SPQ\n",
      "              sum_sq     df         F    PR(>F)\n",
      "rew_0_0     1.654761    1.0  0.579653  0.447729\n",
      "rew_0_1     6.801054    1.0  2.382370  0.124969\n",
      "rew_0_2    13.287547    1.0  4.654551  0.032678\n",
      "rew_0_3     0.032771    1.0  0.011479  0.914830\n",
      "rew_1_0     0.263720    1.0  0.092380  0.761625\n",
      "rew_1_1     6.711779    1.0  2.351097  0.127452\n",
      "rew_1_2     3.470983    1.0  1.215865  0.272066\n",
      "rew_1_3     0.499763    1.0  0.175064  0.676291\n",
      "Residual  399.664036  140.0       NaN       NaN\n",
      "\n",
      "\n",
      "ANOVA Results for metric: MSSB_NEG\n",
      "              sum_sq     df         F    PR(>F)\n",
      "rew_0_0     0.816111    1.0  0.201948  0.653848\n",
      "rew_0_1     2.930346    1.0  0.725119  0.395924\n",
      "rew_0_2    23.639277    1.0  5.849581  0.016866\n",
      "rew_0_3     1.298004    1.0  0.321193  0.571799\n",
      "rew_1_0    10.687663    1.0  2.644681  0.106146\n",
      "rew_1_1    17.284669    1.0  4.277122  0.040469\n",
      "rew_1_2     4.748053    1.0  1.174914  0.280257\n",
      "rew_1_3     0.620600    1.0  0.153569  0.695744\n",
      "Residual  565.766851  140.0       NaN       NaN\n",
      "\n",
      "\n",
      "ANOVA Results for metric: MSSB_DES\n",
      "              sum_sq     df         F    PR(>F)\n",
      "rew_0_0     1.305125    1.0  0.195300  0.659223\n",
      "rew_0_1    26.169954    1.0  3.916100  0.049788\n",
      "rew_0_2    34.520077    1.0  5.165622  0.024561\n",
      "rew_0_3    11.866773    1.0  1.775757  0.184836\n",
      "rew_1_0     3.228105    1.0  0.483057  0.488193\n",
      "rew_1_1     1.618233    1.0  0.242154  0.623425\n",
      "rew_1_2     3.010892    1.0  0.450553  0.503178\n",
      "rew_1_3     4.439216    1.0  0.664289  0.416434\n",
      "Residual  935.571918  140.0       NaN       NaN\n",
      "\n",
      "\n",
      "Significant Results:\n",
      "    feature     metric  coefficient   p_value\n",
      "0   rew_1_3         PA     1.357160  0.032818\n",
      "1   rew_1_1         NA     1.228930  0.017050\n",
      "2   rew_1_2         NA    -1.176041  0.043056\n",
      "3   rew_0_0   UPPSP_SS     0.605287  0.017987\n",
      "4   rew_0_1   UPPSP_SS     0.563911  0.028242\n",
      "5   rew_0_2   UPPSP_SS    -0.546469  0.025958\n",
      "6   rew_1_3  UPPSP_PMD     0.564343  0.011187\n",
      "7   rew_0_3  UPPSP_PSV     0.452533  0.044062\n",
      "8   rew_1_1        BIS     0.702161  0.022946\n",
      "9   rew_1_2        BIS    -1.068441  0.002399\n",
      "10  rew_0_0     BAS_FS     0.372966  0.037206\n",
      "11  rew_0_3     BAS_FS     0.372116  0.029680\n",
      "12  rew_0_2      LOT_R     0.683483  0.040246\n",
      "13  rew_1_1    RRQ_Rum     0.159219  0.040071\n",
      "14  rew_0_2      ASI_C    -0.707007  0.044173\n",
      "15  rew_0_2        SPQ    -0.310572  0.032678\n",
      "16  rew_0_2   MSSB_NEG    -0.414244  0.016866\n",
      "17  rew_1_1   MSSB_NEG     0.404689  0.040469\n",
      "18  rew_0_1   MSSB_DES     0.456638  0.049788\n",
      "19  rew_0_2   MSSB_DES    -0.500582  0.024561\n"
     ]
    }
   ],
   "source": [
    "import pandas as pd\n",
    "import statsmodels.api as sm\n",
    "from statsmodels.formula.api import ols\n",
    "\n",
    "anova_results = {}\n",
    "coefficients = {}\n",
    "significant_results = []\n",
    "\n",
    "for metric in metrics_columns:\n",
    "    # Combine the data\n",
    "    data = pd.concat([just_rewards_scaled, scales[[metric]]], axis=1)\n",
    "    \n",
    "    # Define the model formula\n",
    "    formula = f'{metric} ~ {\" + \".join(just_rewards_scaled.columns)}'\n",
    "    \n",
    "    # Fit the model\n",
    "    model = ols(formula, data=data).fit()\n",
    "    \n",
    "    # Perform ANOVA\n",
    "    anova_result = sm.stats.anova_lm(model, typ=2)\n",
    "    anova_results[metric] = anova_result\n",
    "    \n",
    "    # Store the coefficients\n",
    "    coefficients[metric] = model.params\n",
    "    \n",
    "    # Check if p-value is less than 0.05 for any feature and save the relevant results\n",
    "    significant = False\n",
    "    for feature in just_rewards.columns:\n",
    "        if anova_result.loc[feature, 'PR(>F)'] < 0.05:\n",
    "            significant = True\n",
    "            significant_results.append({\n",
    "                'feature': feature,\n",
    "                'metric': metric,\n",
    "                'coefficient': model.params[feature],\n",
    "                'p_value': anova_result.loc[feature, 'PR(>F)']\n",
    "            })\n",
    "    \n",
    "    # Print the whole ANOVA results if any p-value is lower than 0.05\n",
    "    if significant:\n",
    "        print(f\"ANOVA Results for metric: {metric}\")\n",
    "        print(anova_result)\n",
    "        print(\"\\n\")\n",
    "\n",
    "# Convert the significant results to a DataFrame\n",
    "significant_df = pd.DataFrame(significant_results)\n",
    "print(\"Significant Results:\")\n",
    "print(significant_df)\n"
   ],
   "metadata": {
    "collapsed": false,
    "ExecuteTime": {
     "end_time": "2024-06-20T16:53:46.908524700Z",
     "start_time": "2024-06-20T16:53:46.226392400Z"
    }
   },
   "id": "4cdf0c84ac7c165f",
   "execution_count": 32
  },
  {
   "cell_type": "code",
   "outputs": [],
   "source": [
    "bc_results.columns =  [\"rew_0_0_0\",\"rew_0_0_1\",\"rew_0_0_2\",\"rew_0_0_3\",\"rew_1_0_0\",\"rew_1_0_1\",\"rew_1_0_2\",\"rew_1_0_3\",\"rew_0_1_0\",\"rew_0_1_1\",\"rew_0_1_2\",\"rew_0_1_3\",\"rew_1_1_0\",\"rew_1_1_1\",\"rew_1_1_2\",\"rew_1_1_3\"]"
   ],
   "metadata": {
    "collapsed": false,
    "ExecuteTime": {
     "end_time": "2024-06-20T17:00:39.798069400Z",
     "start_time": "2024-06-20T17:00:39.770293300Z"
    }
   },
   "id": "e39c13de32109ebf",
   "execution_count": 43
  },
  {
   "cell_type": "code",
   "outputs": [],
   "source": [
    "scaler = StandardScaler()\n",
    "\n",
    "# Standardize the 'rewards' column\n",
    "bc_results_scaled = scaler.fit_transform(bc_results)\n",
    "bc_results_scaled = pd.DataFrame(bc_results_scaled, index=bc_results.index, columns=bc_results.columns)\n"
   ],
   "metadata": {
    "collapsed": false,
    "ExecuteTime": {
     "end_time": "2024-06-20T17:00:40.121327800Z",
     "start_time": "2024-06-20T17:00:40.084211100Z"
    }
   },
   "id": "7b7b933d6bfeec71",
   "execution_count": 44
  },
  {
   "cell_type": "code",
   "outputs": [
    {
     "name": "stdout",
     "output_type": "stream",
     "text": [
      "ANOVA Results for metric: ERQ_CR\n",
      "              sum_sq     df         F    PR(>F)\n",
      "rew_0_0_0   0.113245    1.0  0.166235  0.684140\n",
      "rew_0_0_1   0.113244    1.0  0.166235  0.684141\n",
      "rew_0_0_2   0.113247    1.0  0.166238  0.684137\n",
      "rew_0_0_3   0.113241    1.0  0.166230  0.684145\n",
      "rew_1_0_0   4.939618    1.0  7.251018  0.008005\n",
      "rew_1_0_1   4.939616    1.0  7.251014  0.008005\n",
      "rew_1_0_2   4.939627    1.0  7.251030  0.008005\n",
      "rew_1_0_3   4.939599    1.0  7.250990  0.008005\n",
      "rew_0_1_0   0.200645    1.0  0.294533  0.588245\n",
      "rew_0_1_1   0.200644    1.0  0.294531  0.588247\n",
      "rew_0_1_2   0.200646    1.0  0.294534  0.588245\n",
      "rew_0_1_3   0.200644    1.0  0.294532  0.588246\n",
      "rew_1_1_0   0.281228    1.0  0.412823  0.521655\n",
      "rew_1_1_1   0.281225    1.0  0.412818  0.521657\n",
      "rew_1_1_2   0.281228    1.0  0.412824  0.521654\n",
      "rew_1_1_3   0.281225    1.0  0.412820  0.521656\n",
      "Residual   89.922499  132.0       NaN       NaN\n",
      "\n",
      "\n",
      "ANOVA Results for metric: UPPSP_PSV\n",
      "               sum_sq     df         F    PR(>F)\n",
      "rew_0_0_0   51.603574    1.0  7.516082  0.006963\n",
      "rew_0_0_1   51.603545    1.0  7.516077  0.006963\n",
      "rew_0_0_2   51.603563    1.0  7.516080  0.006963\n",
      "rew_0_0_3   51.603610    1.0  7.516087  0.006963\n",
      "rew_1_0_0    0.383346    1.0  0.055834  0.813571\n",
      "rew_1_0_1    0.383343    1.0  0.055834  0.813572\n",
      "rew_1_0_2    0.383344    1.0  0.055834  0.813572\n",
      "rew_1_0_3    0.383344    1.0  0.055834  0.813572\n",
      "rew_0_1_0    3.573528    1.0  0.520486  0.471910\n",
      "rew_0_1_1    3.573520    1.0  0.520485  0.471911\n",
      "rew_0_1_2    3.573540    1.0  0.520488  0.471910\n",
      "rew_0_1_3    3.573524    1.0  0.520485  0.471911\n",
      "rew_1_1_0    5.564183    1.0  0.810426  0.369634\n",
      "rew_1_1_1    5.564202    1.0  0.810428  0.369633\n",
      "rew_1_1_2    5.564175    1.0  0.810424  0.369634\n",
      "rew_1_1_3    5.564186    1.0  0.810426  0.369634\n",
      "Residual   906.279647  132.0       NaN       NaN\n",
      "\n",
      "ANOVA Results for metric: MSSB_POS\n",
      "               sum_sq     df         F    PR(>F)\n",
      "rew_0_0_0    0.092218    1.0  0.028392  0.866449\n",
      "rew_0_0_1    0.092218    1.0  0.028392  0.866449\n",
      "rew_0_0_2    0.092217    1.0  0.028391  0.866450\n",
      "rew_0_0_3    0.092217    1.0  0.028392  0.866450\n",
      "rew_1_0_0    0.314694    1.0  0.096887  0.756089\n",
      "rew_1_0_1    0.314693    1.0  0.096887  0.756089\n",
      "rew_1_0_2    0.314697    1.0  0.096888  0.756088\n",
      "rew_1_0_3    0.314698    1.0  0.096888  0.756087\n",
      "rew_0_1_0    4.843945    1.0  1.491338  0.224186\n",
      "rew_0_1_1    4.843958    1.0  1.491342  0.224185\n",
      "rew_0_1_2    4.843950    1.0  1.491339  0.224186\n",
      "rew_0_1_3    4.843951    1.0  1.491340  0.224185\n",
      "rew_1_1_0   28.246239    1.0  8.696358  0.003772\n",
      "rew_1_1_1   28.246235    1.0  8.696357  0.003772\n",
      "rew_1_1_2   28.246246    1.0  8.696360  0.003772\n",
      "rew_1_1_3   28.246225    1.0  8.696354  0.003772\n",
      "Residual   428.743103  132.0       NaN       NaN\n",
      "\n",
      "\n",
      "Significant Results:\n",
      "      feature     metric   coefficient   p_value\n",
      "0   rew_1_0_0     ERQ_CR  5.066754e+05  0.008005\n",
      "1   rew_1_0_1     ERQ_CR  3.286263e+05  0.008005\n",
      "2   rew_1_0_2     ERQ_CR  2.436159e+05  0.008005\n",
      "3   rew_1_0_3     ERQ_CR  2.154650e+05  0.008005\n",
      "4   rew_0_0_0  UPPSP_PSV -1.606215e+06  0.006963\n",
      "5   rew_0_0_1  UPPSP_PSV -1.035193e+06  0.006963\n",
      "6   rew_0_0_2  UPPSP_PSV -8.024292e+05  0.006963\n",
      "7   rew_0_0_3  UPPSP_PSV -7.055701e+05  0.006963\n",
      "8   rew_1_1_0   MSSB_POS  8.414613e+05  0.003772\n",
      "9   rew_1_1_1   MSSB_POS  8.176213e+05  0.003772\n",
      "10  rew_1_1_2   MSSB_POS  9.703187e+05  0.003772\n",
      "11  rew_1_1_3   MSSB_POS  1.340535e+06  0.003772\n"
     ]
    }
   ],
   "source": [
    "import pandas as pd\n",
    "import statsmodels.api as sm\n",
    "from statsmodels.formula.api import ols\n",
    "\n",
    "anova_results = {}\n",
    "coefficients = {}\n",
    "significant_results = []\n",
    "\n",
    "for metric in metrics_columns:\n",
    "    # Combine the data\n",
    "    data = pd.concat([bc_results_scaled, scales[[metric]]], axis=1)\n",
    "    \n",
    "    # Define the model formula\n",
    "    formula = f'{metric} ~ {\" + \".join(bc_results_scaled.columns)}'\n",
    "    \n",
    "    # Fit the model\n",
    "    model = ols(formula, data=data).fit()\n",
    "    \n",
    "    # Perform ANOVA\n",
    "    anova_result = sm.stats.anova_lm(model, typ=2)\n",
    "    anova_results[metric] = anova_result\n",
    "    \n",
    "    # Store the coefficients\n",
    "    coefficients[metric] = model.params\n",
    "    \n",
    "    # Check if p-value is less than 0.05 for any feature and save the relevant results\n",
    "    significant = False\n",
    "    for feature in bc_results_scaled.columns:\n",
    "        if anova_result.loc[feature, 'PR(>F)'] < 0.05:\n",
    "            significant = True\n",
    "            significant_results.append({\n",
    "                'feature': feature,\n",
    "                'metric': metric,\n",
    "                'coefficient': model.params[feature],\n",
    "                'p_value': anova_result.loc[feature, 'PR(>F)']\n",
    "            })\n",
    "    \n",
    "    # Print the whole ANOVA results if any p-value is lower than 0.05\n",
    "    if significant:\n",
    "        print(f\"ANOVA Results for metric: {metric}\")\n",
    "        print(anova_result)\n",
    "        print(\"\\n\")\n",
    "\n",
    "# Convert the significant results to a DataFrame\n",
    "significant_df = pd.DataFrame(significant_results)\n",
    "print(\"Significant Results:\")\n",
    "print(significant_df)\n"
   ],
   "metadata": {
    "collapsed": false,
    "ExecuteTime": {
     "end_time": "2024-06-20T17:05:38.489219600Z",
     "start_time": "2024-06-20T17:05:36.989546400Z"
    }
   },
   "id": "e874a08a9933d990",
   "execution_count": 58
  },
  {
   "cell_type": "code",
   "outputs": [
    {
     "name": "stdout",
     "output_type": "stream",
     "text": [
      "Significant Results:\n",
      "      feature     metric   coefficient   p_value\n",
      "0   rew_1_0_0     ERQ_CR  5.066754e+05  0.008005\n",
      "1   rew_1_0_1     ERQ_CR  3.286263e+05  0.008005\n",
      "2   rew_1_0_2     ERQ_CR  2.436159e+05  0.008005\n",
      "3   rew_1_0_3     ERQ_CR  2.154650e+05  0.008005\n",
      "4   rew_0_0_0  UPPSP_PSV -1.606215e+06  0.006963\n",
      "5   rew_0_0_1  UPPSP_PSV -1.035193e+06  0.006963\n",
      "6   rew_0_0_2  UPPSP_PSV -8.024292e+05  0.006963\n",
      "7   rew_0_0_3  UPPSP_PSV -7.055701e+05  0.006963\n",
      "8   rew_1_1_0   MSSB_POS  8.414613e+05  0.003772\n",
      "9   rew_1_1_1   MSSB_POS  8.176213e+05  0.003772\n",
      "10  rew_1_1_2   MSSB_POS  9.703187e+05  0.003772\n",
      "11  rew_1_1_3   MSSB_POS  1.340535e+06  0.003772\n"
     ]
    }
   ],
   "source": [
    "anova_results = {}\n",
    "coefficients = {}\n",
    "significant_results = []\n",
    "\n",
    "for metric in metrics_columns:\n",
    "    # Combine the data\n",
    "    data = pd.concat([bc_results_scaled, scales[[metric]]], axis=1)\n",
    "    \n",
    "    # Define the model formula\n",
    "    formula = f'{metric} ~ {\" + \".join(bc_results_scaled.columns)}'\n",
    "    # Fit the model\n",
    "    model = ols(formula, data=data).fit()\n",
    "    \n",
    "        # Perform ANOVA\n",
    "    anova_result = sm.stats.anova_lm(model, typ=2)\n",
    "    anova_results[metric] = anova_result\n",
    "    # Store the coefficients\n",
    "    coefficients[metric] = model.params\n",
    "    \n",
    "    # Check if p-value is less than 0.06 for the feature and save the relevant results\n",
    "    for feature in bc_results.columns:\n",
    "        if anova_result.loc[feature, 'PR(>F)'] < 0.05:\n",
    "            significant_results.append({\n",
    "                'feature': feature,\n",
    "                'metric': metric,\n",
    "                'coefficient': model.params[feature],\n",
    "                'p_value': anova_result.loc[feature, 'PR(>F)']\n",
    "            })\n",
    "\n",
    "significant_df = pd.DataFrame(significant_results)\n",
    "print(\"Significant Results:\")\n",
    "print(significant_df)\n"
   ],
   "metadata": {
    "collapsed": false,
    "ExecuteTime": {
     "end_time": "2024-06-20T17:04:39.719397200Z",
     "start_time": "2024-06-20T17:04:38.298936600Z"
    }
   },
   "id": "8f6d8e8789e55704",
   "execution_count": 56
  },
  {
   "cell_type": "code",
   "outputs": [
    {
     "name": "stdout",
     "output_type": "stream",
     "text": [
      "Significant Results:\n",
      "          feature   metric  coefficient   p_value\n",
      "0  alpha_no_match  RRQ_Rum     0.147396  0.021518\n",
      "1  alpha_no_match  RRQ_Ref     0.200430  0.005237\n"
     ]
    }
   ],
   "source": [
    "import pandas as pd\n",
    "import statsmodels.api as sm\n",
    "from statsmodels.formula.api import ols\n",
    "\n",
    "# Initialize dictionaries to store results\n",
    "anova_results = {}\n",
    "coefficients = {}\n",
    "significant_results = []\n",
    "\n",
    "# Loop through each metric in the metrics_columns list\n",
    "for metric in metrics_columns:\n",
    "    for feature in [\"alpha_match\", \"alpha_no_match\"]:\n",
    "        # Combine the data\n",
    "        data = pd.concat([irl_results_transformed_rewards[feature], scales[[metric]]], axis=1)\n",
    "        # Define the model formula\n",
    "        formula = f\"{metric} ~ {feature}\"\n",
    "    \n",
    "        # Fit the model\n",
    "        model = ols(formula, data=data).fit()\n",
    "        \n",
    "        # Perform ANOVA\n",
    "        anova_result = sm.stats.anova_lm(model, typ=2)\n",
    "        anova_results[metric] = anova_result\n",
    "    \n",
    "        # Store the coefficients\n",
    "        coefficients[metric] = model.params\n",
    "        \n",
    "        \n",
    "        # Check if p-value is less than 0.06 for the feature and save the relevant results\n",
    "        if anova_result.loc[feature, 'PR(>F)'] < 0.05:\n",
    "            significant_results.append({\n",
    "                'feature': feature,\n",
    "                'metric': metric,\n",
    "                'coefficient': model.params[feature],\n",
    "                'p_value': anova_result.loc[feature, 'PR(>F)']\n",
    "            })\n",
    "\n",
    "# Optionally, convert the list of significant results to a DataFrame for easier handling\n",
    "significant_df = pd.DataFrame(significant_results)\n",
    "\n",
    "# You can now save this DataFrame to a CSV or print it\n",
    "print(\"Significant Results:\")\n",
    "print(significant_df)\n"
   ],
   "metadata": {
    "collapsed": false,
    "ExecuteTime": {
     "end_time": "2024-06-20T16:56:18.862994100Z",
     "start_time": "2024-06-20T16:56:17.989075Z"
    }
   },
   "id": "d214c98facf497fa",
   "execution_count": 42
  },
  {
   "cell_type": "code",
   "outputs": [
    {
     "data": {
      "text/plain": "     Mean_Rating0  Dif_Match  Cor_Pred_Like\n0        1.993171   0.632545      -0.926969\n1        0.502669  -0.852105      -0.534772\n2       -0.428894   1.257661      -0.397058\n3        0.595826   0.645568      -2.257715\n4       -0.615207   0.111615      -0.684158\n..            ...        ...            ...\n144     -1.360458  -0.773965      -0.376335\n145      0.036887   0.951615       0.989496\n146      0.875295   0.339522       0.339480\n147      0.688982   0.691150       0.089887\n148     -2.012553  -0.402803       1.057136\n\n[149 rows x 3 columns]",
      "text/html": "<div>\n<style scoped>\n    .dataframe tbody tr th:only-of-type {\n        vertical-align: middle;\n    }\n\n    .dataframe tbody tr th {\n        vertical-align: top;\n    }\n\n    .dataframe thead th {\n        text-align: right;\n    }\n</style>\n<table border=\"1\" class=\"dataframe\">\n  <thead>\n    <tr style=\"text-align: right;\">\n      <th></th>\n      <th>Mean_Rating0</th>\n      <th>Dif_Match</th>\n      <th>Cor_Pred_Like</th>\n    </tr>\n  </thead>\n  <tbody>\n    <tr>\n      <th>0</th>\n      <td>1.993171</td>\n      <td>0.632545</td>\n      <td>-0.926969</td>\n    </tr>\n    <tr>\n      <th>1</th>\n      <td>0.502669</td>\n      <td>-0.852105</td>\n      <td>-0.534772</td>\n    </tr>\n    <tr>\n      <th>2</th>\n      <td>-0.428894</td>\n      <td>1.257661</td>\n      <td>-0.397058</td>\n    </tr>\n    <tr>\n      <th>3</th>\n      <td>0.595826</td>\n      <td>0.645568</td>\n      <td>-2.257715</td>\n    </tr>\n    <tr>\n      <th>4</th>\n      <td>-0.615207</td>\n      <td>0.111615</td>\n      <td>-0.684158</td>\n    </tr>\n    <tr>\n      <th>...</th>\n      <td>...</td>\n      <td>...</td>\n      <td>...</td>\n    </tr>\n    <tr>\n      <th>144</th>\n      <td>-1.360458</td>\n      <td>-0.773965</td>\n      <td>-0.376335</td>\n    </tr>\n    <tr>\n      <th>145</th>\n      <td>0.036887</td>\n      <td>0.951615</td>\n      <td>0.989496</td>\n    </tr>\n    <tr>\n      <th>146</th>\n      <td>0.875295</td>\n      <td>0.339522</td>\n      <td>0.339480</td>\n    </tr>\n    <tr>\n      <th>147</th>\n      <td>0.688982</td>\n      <td>0.691150</td>\n      <td>0.089887</td>\n    </tr>\n    <tr>\n      <th>148</th>\n      <td>-2.012553</td>\n      <td>-0.402803</td>\n      <td>1.057136</td>\n    </tr>\n  </tbody>\n</table>\n<p>149 rows × 3 columns</p>\n</div>"
     },
     "execution_count": 37,
     "metadata": {},
     "output_type": "execute_result"
    }
   ],
   "source": [
    "from sklearn.preprocessing import StandardScaler\n",
    "merged_df = df_to_merge.merge(baseline, left_on='datafile_basename', right_on='Subject', how='left')\n",
    "reordered_baseline = merged_df.drop(['datafile_basename', 'Subject'], axis=1)\n",
    "\n",
    "scaler = StandardScaler()\n",
    "\n",
    "reordered_baseline_scaled = scaler.fit_transform(reordered_baseline)\n",
    "reordered_baseline_scaled = pd.DataFrame(reordered_baseline_scaled, columns=reordered_baseline.columns)\n",
    "\n",
    "reordered_baseline_scaled"
   ],
   "metadata": {
    "collapsed": false,
    "ExecuteTime": {
     "end_time": "2024-06-20T16:55:03.202783600Z",
     "start_time": "2024-06-20T16:55:03.168384200Z"
    }
   },
   "id": "cebb71fe23263ff6",
   "execution_count": 37
  },
  {
   "cell_type": "code",
   "outputs": [
    {
     "name": "stdout",
     "output_type": "stream",
     "text": [
      "Significant Results:\n",
      "         feature  metric  coefficient   p_value\n",
      "0   Mean_Rating0  ERQ_CR     0.149701  0.039576\n",
      "1  Cor_Pred_Like     SHS    -0.109736  0.047351\n",
      "2      Dif_Match   ASI_C    -0.716183  0.033258\n"
     ]
    }
   ],
   "source": [
    "import pandas as pd\n",
    "import statsmodels.api as sm\n",
    "from statsmodels.formula.api import ols\n",
    "\n",
    "\n",
    "\n",
    "# Initialize dictionaries to store results\n",
    "anova_results = {}\n",
    "coefficients = {}\n",
    "significant_results = []\n",
    "\n",
    "# Loop through each metric in the metrics_columns list\n",
    "for metric in metrics_columns:\n",
    "    for feature in reordered_baseline_scaled.columns:\n",
    "        # Combine the data\n",
    "        data = pd.concat([reordered_baseline_scaled[feature], scales[[metric]]], axis=1)\n",
    "\n",
    "        # Define the model formula\n",
    "        formula = f\"{metric} ~ {feature}\"\n",
    "\n",
    "        # Fit the model\n",
    "        model = ols(formula, data=data).fit()\n",
    "\n",
    "        # Perform ANOVA\n",
    "        anova_result = sm.stats.anova_lm(model, typ=2)\n",
    "        anova_results[metric] = anova_result\n",
    "\n",
    "        # Store the coefficients\n",
    "        coefficients[metric] = model.params\n",
    "\n",
    "        # Check if p-value is less than 0.06 for the feature and save the relevant results\n",
    "        if anova_result.loc[feature, 'PR(>F)'] < 0.05:\n",
    "            significant_results.append({\n",
    "                'feature': feature,\n",
    "                'metric': metric,\n",
    "                'coefficient': model.params[feature],\n",
    "                'p_value': anova_result.loc[feature, 'PR(>F)']\n",
    "            })\n",
    "\n",
    "# Optionally, convert the list of significant results to a DataFrame for easier handling\n",
    "significant_df = pd.DataFrame(significant_results)\n",
    "\n",
    "# You can now save this DataFrame to a CSV or print it\n",
    "print(\"Significant Results:\")\n",
    "print(significant_df)\n",
    "\n"
   ],
   "metadata": {
    "collapsed": false,
    "ExecuteTime": {
     "end_time": "2024-06-20T16:55:34.822086200Z",
     "start_time": "2024-06-20T16:55:34.204885600Z"
    }
   },
   "id": "5ea739248a7ae0c",
   "execution_count": 41
  },
  {
   "cell_type": "markdown",
   "source": [
    "## BC Results"
   ],
   "metadata": {
    "collapsed": false
   },
   "id": "bb00a1b08a393d30"
  },
  {
   "cell_type": "markdown",
   "source": [
    "### Random Forest Regressor"
   ],
   "metadata": {
    "collapsed": false
   },
   "id": "7f2c72c10ce758c3"
  },
  {
   "cell_type": "code",
   "outputs": [
    {
     "name": "stdout",
     "output_type": "stream",
     "text": [
      "Average Training RMSE: 0.510560301368013\n",
      "Average Test RMSE: 1.0647204065104234\n"
     ]
    }
   ],
   "source": [
    "\n",
    "from sklearn.ensemble import RandomForestRegressor\n",
    "from sklearn.model_selection import train_test_split\n",
    "from sklearn.metrics import mean_squared_error\n",
    "\n",
    "\n",
    "# Define the independent variables (matrix elements)\n",
    "X = bc_results\n",
    "X.columns = X.columns.astype(str)\n",
    "train_rmse_list = []\n",
    "test_rmse_list = []\n",
    "\n",
    "params = {\n",
    "    'n_estimators': 500,\n",
    "    'max_depth': 10,\n",
    "    'min_samples_split': 5,\n",
    "    'min_samples_leaf': 2,\n",
    "    'max_features': 'sqrt',\n",
    "    'bootstrap': True,\n",
    "    'random_state': 42\n",
    "}\n",
    "\n",
    "for metric in metrics_columns:\n",
    "    y = scales_transformed[metric]\n",
    "\n",
    "    # Split the data into training and testing sets\n",
    "    X_train, X_test, y_train, y_test = train_test_split(X, y, test_size=0.2, random_state=42)\n",
    "    \n",
    "    # Fit the Random Forest model\n",
    "    rf = RandomForestRegressor(**params)\n",
    "    rf.fit(X_train, y_train)\n",
    "    \n",
    "    # Predict and evaluate on the training set\n",
    "    y_train_pred = rf.predict(X_train)\n",
    "    train_rmse = np.sqrt(mean_squared_error(y_train, y_train_pred))\n",
    "    train_rmse_list.append(train_rmse)\n",
    "    \n",
    "    # Predict and evaluate on the test set\n",
    "    y_test_pred = rf.predict(X_test)\n",
    "    test_rmse = np.sqrt(mean_squared_error(y_test, y_test_pred))\n",
    "    test_rmse_list.append(test_rmse)\n",
    "\n",
    "# Calculate the average RMSE\n",
    "average_train_rmse = np.mean(train_rmse_list)\n",
    "average_test_rmse = np.mean(test_rmse_list)\n",
    "\n",
    "print(f'Average Training RMSE: {average_train_rmse}')\n",
    "print(f'Average Test RMSE: {average_test_rmse}')\n"
   ],
   "metadata": {
    "collapsed": false,
    "ExecuteTime": {
     "end_time": "2024-06-20T16:55:31.524461100Z",
     "start_time": "2024-06-20T16:55:03.981592200Z"
    }
   },
   "id": "994464235ff8629a",
   "execution_count": 39
  },
  {
   "cell_type": "code",
   "outputs": [
    {
     "name": "stdout",
     "output_type": "stream",
     "text": [
      "Average Training RMSE: 0.5814181456508993\n",
      "Average Test RMSE: 1.0549101545998119\n"
     ]
    }
   ],
   "source": [
    "import xgboost as xgb\n",
    "\n",
    "\n",
    "X = bc_results\n",
    "X.columns = X.columns.astype(str)\n",
    "train_rmse_list = []\n",
    "test_rmse_list = []\n",
    "\n",
    "params = {\n",
    "    'n_estimators': 100,\n",
    "    'learning_rate': 0.01,\n",
    "    'max_depth': 7,\n",
    "    'min_child_weight': 1,\n",
    "    'subsample': 0.8,\n",
    "    'colsample_bytree': 0.8,\n",
    "    'gamma': 0,\n",
    "    'random_state': 42\n",
    "}\n",
    "\n",
    "for metric in metrics_columns:\n",
    "    y = scales_transformed[metric]\n",
    "\n",
    "    # Split the data into training and testing sets\n",
    "    X_train, X_test, y_train, y_test = train_test_split(X, y, test_size=0.2, random_state=42)\n",
    "    \n",
    "    # Fit the XGBoost model\n",
    "    xgbr = xgb.XGBRegressor(**params)\n",
    "    xgbr.fit(X_train, y_train)\n",
    "    \n",
    "    # Predict and evaluate on the training set\n",
    "    y_train_pred = xgbr.predict(X_train)\n",
    "    train_rmse = np.sqrt(mean_squared_error(y_train, y_train_pred))\n",
    "    train_rmse_list.append(train_rmse)\n",
    "    \n",
    "    # Predict and evaluate on the test set\n",
    "    y_test_pred = xgbr.predict(X_test)\n",
    "    test_rmse = np.sqrt(mean_squared_error(y_test, y_test_pred))\n",
    "    test_rmse_list.append(test_rmse)\n",
    "\n",
    "# Calculate the average RMSE\n",
    "average_train_rmse = np.mean(train_rmse_list)\n",
    "average_test_rmse = np.mean(test_rmse_list)\n",
    "\n",
    "print(f'Average Training RMSE: {average_train_rmse}')\n",
    "print(f'Average Test RMSE: {average_test_rmse}')\n"
   ],
   "metadata": {
    "collapsed": false,
    "ExecuteTime": {
     "end_time": "2024-06-20T16:55:34.199595700Z",
     "start_time": "2024-06-20T16:55:31.521086400Z"
    }
   },
   "id": "8c724c22a3e74142",
   "execution_count": 40
  },
  {
   "cell_type": "markdown",
   "source": [
    "## IRL Results"
   ],
   "metadata": {
    "collapsed": false
   },
   "id": "aa224f09cdb428e0"
  },
  {
   "cell_type": "code",
   "outputs": [],
   "source": [
    "flattened_best_rewards = pd.DataFrame(\n",
    "    irl_results['best_rewards'].apply(lambda x: x.flatten()).tolist()\n",
    ")\n",
    "flattened_best_rewards[\"beta_match\"] = irl_results[\"beta_match\"]\n",
    "flattened_best_rewards[\"beta_no_match\"] = irl_results[\"beta_no_match\"]\n",
    "flattened_best_rewards.columns = flattened_best_rewards.columns.astype(str)"
   ],
   "metadata": {
    "collapsed": false
   },
   "id": "b7c063edba3e22b7",
   "execution_count": null
  },
  {
   "cell_type": "markdown",
   "source": [
    "### Random Forest"
   ],
   "metadata": {
    "collapsed": false
   },
   "id": "2142e1a5f93e64b0"
  },
  {
   "cell_type": "code",
   "outputs": [],
   "source": [
    "from sklearn.ensemble import RandomForestRegressor\n",
    "from sklearn.model_selection import train_test_split\n",
    "from sklearn.metrics import mean_squared_error\n",
    "\n",
    "\n",
    "# Define the independent variables (matrix elements)\n",
    "X = flattened_best_rewards\n",
    "X.columns = X.columns.astype(str)\n",
    "train_rmse_list = []\n",
    "test_rmse_list = []\n",
    "\n",
    "params = {\n",
    "    'n_estimators': 500,\n",
    "    'max_depth': 10,\n",
    "    'min_samples_split': 5,\n",
    "    'min_samples_leaf': 2,\n",
    "    'max_features': 'sqrt',\n",
    "    'bootstrap': True,\n",
    "    'random_state': 42\n",
    "}\n",
    "\n",
    "for metric in metrics_columns:\n",
    "    y = scales_transformed[metric]\n",
    "\n",
    "    # Split the data into training and testing sets\n",
    "    X_train, X_test, y_train, y_test = train_test_split(X, y, test_size=0.2, random_state=42)\n",
    "    \n",
    "    # Fit the Random Forest model\n",
    "    rf = RandomForestRegressor(**params)\n",
    "    rf.fit(X_train, y_train)\n",
    "    \n",
    "    # Predict and evaluate on the training set\n",
    "    y_train_pred = rf.predict(X_train)\n",
    "    train_rmse = np.sqrt(mean_squared_error(y_train, y_train_pred))\n",
    "    train_rmse_list.append(train_rmse)\n",
    "    \n",
    "    # Predict and evaluate on the test set\n",
    "    y_test_pred = rf.predict(X_test)\n",
    "    test_rmse = np.sqrt(mean_squared_error(y_test, y_test_pred))\n",
    "    test_rmse_list.append(test_rmse)\n",
    "\n",
    "# Calculate the average RMSE\n",
    "average_train_rmse = np.mean(train_rmse_list)\n",
    "average_test_rmse = np.mean(test_rmse_list)\n",
    "\n",
    "print(f'Average Training RMSE: {average_train_rmse}')\n",
    "print(f'Average Test RMSE: {average_test_rmse}')\n",
    "    "
   ],
   "metadata": {
    "collapsed": false
   },
   "id": "9079414d4728bcbc",
   "execution_count": null
  },
  {
   "cell_type": "markdown",
   "source": [
    "#### XGBoost Regressor"
   ],
   "metadata": {
    "collapsed": false
   },
   "id": "c1f02380dad53300"
  },
  {
   "cell_type": "code",
   "outputs": [],
   "source": [
    "import xgboost as xgb\n",
    "\n",
    "\n",
    "X = flattened_best_rewards\n",
    "X.columns = X.columns.astype(str)\n",
    "\n",
    "train_rmse_list = []\n",
    "test_rmse_list = []\n",
    "\n",
    "params = {\n",
    "    'n_estimators': 100,\n",
    "    'learning_rate': 0.01,\n",
    "    'max_depth': 7,\n",
    "    'min_child_weight': 1,\n",
    "    'subsample': 0.8,\n",
    "    'colsample_bytree': 0.8,\n",
    "    'gamma': 0,\n",
    "    'random_state': 42\n",
    "}\n",
    "\n",
    "for metric in metrics_columns:\n",
    "    y = scales_transformed[metric]\n",
    "\n",
    "    # Split the data into training and testing sets\n",
    "    X_train, X_test, y_train, y_test = train_test_split(X, y, test_size=0.2, random_state=42)\n",
    "    \n",
    "    # Fit the XGBoost model\n",
    "    xgbr = xgb.XGBRegressor(**params)\n",
    "    xgbr.fit(X_train, y_train)\n",
    "    \n",
    "    # Predict and evaluate on the training set\n",
    "    y_train_pred = xgbr.predict(X_train)\n",
    "    train_rmse = np.sqrt(mean_squared_error(y_train, y_train_pred))\n",
    "    train_rmse_list.append(train_rmse)\n",
    "    \n",
    "    # Predict and evaluate on the test set\n",
    "    y_test_pred = xgbr.predict(X_test)\n",
    "    test_rmse = np.sqrt(mean_squared_error(y_test, y_test_pred))\n",
    "    test_rmse_list.append(test_rmse)\n",
    "\n",
    "# Calculate the average RMSE\n",
    "average_train_rmse = np.mean(train_rmse_list)\n",
    "average_test_rmse = np.mean(test_rmse_list)\n",
    "\n",
    "print(f'Average Training RMSE: {average_train_rmse}')\n",
    "print(f'Average Test RMSE: {average_test_rmse}')\n"
   ],
   "metadata": {
    "collapsed": false
   },
   "id": "8d856c6b91fc24b9",
   "execution_count": null
  },
  {
   "cell_type": "markdown",
   "source": [
    "### Theory Driven Results"
   ],
   "metadata": {
    "collapsed": false
   },
   "id": "955e621949490970"
  },
  {
   "cell_type": "markdown",
   "source": [
    "#### Random Forest"
   ],
   "metadata": {
    "collapsed": false
   },
   "id": "ddb4d6cda5867f70"
  },
  {
   "cell_type": "code",
   "outputs": [],
   "source": [
    "merged_df = df_to_merge.merge(baseline, left_on='datafile_basename', right_on='Subject', how='left')\n",
    "reordered_baseline = merged_df.drop(['datafile_basename', 'Subject'], axis=1)\n"
   ],
   "metadata": {
    "collapsed": false
   },
   "id": "9ce4eb16dc1e4271",
   "execution_count": null
  },
  {
   "cell_type": "code",
   "outputs": [],
   "source": [
    "merged_df = df_to_merge.merge(baseline, left_on='datafile_basename', right_on='Subject', how='left')\n",
    "reordered_baseline = merged_df.drop(['datafile_basename', 'Subject'], axis=1)\n",
    "\n",
    "X = reordered_baseline\n",
    "X.columns = reordered_baseline.columns.astype(str)\n",
    "train_rmse_list = []\n",
    "test_rmse_list = []\n",
    "\n",
    "params = {\n",
    "    'n_estimators': 500,\n",
    "    'max_depth': 10,\n",
    "    'min_samples_split': 5,\n",
    "    'min_samples_leaf': 2,\n",
    "    'max_features': 'sqrt',\n",
    "    'bootstrap': True,\n",
    "    'random_state': 42\n",
    "}\n",
    "\n",
    "for metric in metrics_columns:\n",
    "    y = scales_transformed[metric]\n",
    "\n",
    "    # Split the data into training and testing sets\n",
    "    X_train, X_test, y_train, y_test = train_test_split(X, y, test_size=0.2, random_state=42)\n",
    "    \n",
    "    # Fit the Random Forest model\n",
    "    rf = RandomForestRegressor(**params)\n",
    "    rf.fit(X_train, y_train)\n",
    "    \n",
    "    # Predict and evaluate on the training set\n",
    "    y_train_pred = rf.predict(X_train)\n",
    "    train_rmse = np.sqrt(mean_squared_error(y_train, y_train_pred))\n",
    "    train_rmse_list.append(train_rmse)\n",
    "    \n",
    "    # Predict and evaluate on the test set\n",
    "    y_test_pred = rf.predict(X_test)\n",
    "    test_rmse = np.sqrt(mean_squared_error(y_test, y_test_pred))\n",
    "    test_rmse_list.append(test_rmse)\n",
    "\n",
    "# Calculate the average RMSE\n",
    "average_train_rmse = np.mean(train_rmse_list)\n",
    "average_test_rmse = np.mean(test_rmse_list)\n",
    "\n",
    "print(f'Average Training RMSE: {average_train_rmse}')\n",
    "print(f'Average Test RMSE: {average_test_rmse}')\n",
    "\n"
   ],
   "metadata": {
    "collapsed": false
   },
   "id": "db545abf5b1431ac",
   "execution_count": null
  },
  {
   "cell_type": "markdown",
   "source": [
    "XGBoost"
   ],
   "metadata": {
    "collapsed": false
   },
   "id": "760c4a82d6f68ec5"
  },
  {
   "cell_type": "code",
   "outputs": [],
   "source": [
    "\n",
    "\n",
    "X = reordered_baseline\n",
    "X.columns = X.columns.astype(str)  # Ensure all column names are strings\n",
    "\n",
    "train_rmse_list = []\n",
    "test_rmse_list = []\n",
    "\n",
    "params = {\n",
    "    'n_estimators': 100,\n",
    "    'learning_rate': 0.01,\n",
    "    'max_depth': 7,\n",
    "    'min_child_weight': 1,\n",
    "    'subsample': 0.8,\n",
    "    'colsample_bytree': 0.8,\n",
    "    'gamma': 0,\n",
    "    'random_state': 42\n",
    "}\n",
    "\n",
    "for metric in metrics_columns:\n",
    "    y = scales_transformed[metric]\n",
    "\n",
    "    # Split the data into training and testing sets\n",
    "    X_train, X_test, y_train, y_test = train_test_split(X, y, test_size=0.2, random_state=42)\n",
    "    \n",
    "    # Fit the XGBoost model\n",
    "    xgbr = xgb.XGBRegressor(**params)\n",
    "    xgbr.fit(X_train, y_train)\n",
    "    \n",
    "    # Predict and evaluate on the training set\n",
    "    y_train_pred = xgbr.predict(X_train)\n",
    "    train_rmse = np.sqrt(mean_squared_error(y_train, y_train_pred))\n",
    "    train_rmse_list.append(train_rmse)\n",
    "    \n",
    "    # Predict and evaluate on the test set\n",
    "    y_test_pred = xgbr.predict(X_test)\n",
    "    test_rmse = np.sqrt(mean_squared_error(y_test, y_test_pred))\n",
    "    test_rmse_list.append(test_rmse)\n",
    "\n",
    "# Calculate the average RMSE\n",
    "average_train_rmse = np.mean(train_rmse_list)\n",
    "average_test_rmse = np.mean(test_rmse_list)\n",
    "\n",
    "print(f'Average Training RMSE: {average_train_rmse}')\n",
    "print(f'Average Test RMSE: {average_test_rmse}')\n"
   ],
   "metadata": {
    "collapsed": false
   },
   "id": "e11962a9807647e7",
   "execution_count": null
  },
  {
   "cell_type": "markdown",
   "source": [
    "### Mean"
   ],
   "metadata": {
    "collapsed": false
   },
   "id": "ef5f98dd3f690811"
  },
  {
   "cell_type": "code",
   "outputs": [],
   "source": [
    "X = reordered_baseline\n",
    "X.columns = X.columns.astype(str)  # Ensure all column names are strings\n",
    "\n",
    "\n",
    "baseline_train_rmse_list = []\n",
    "baseline_test_rmse_list = []\n",
    "\n",
    "\n",
    "for metric in metrics_columns:\n",
    "    y = scales_transformed[metric]\n",
    "\n",
    "    # Split the data into training and testing sets\n",
    "    X_train, X_test, y_train, y_test = train_test_split(X, y, test_size=0.2, random_state=42)\n",
    "\n",
    "    # Baseline model using the mean\n",
    "    mean_train_pred = np.full(y_train.shape, y_train.mean())\n",
    "    mean_test_pred = np.full(y_test.shape, y_train.mean())  # Use the training mean for the test set\n",
    "    \n",
    "    baseline_train_rmse = np.sqrt(mean_squared_error(y_train, mean_train_pred))\n",
    "    baseline_test_rmse = np.sqrt(mean_squared_error(y_test, mean_test_pred))\n",
    "    \n",
    "    baseline_train_rmse_list.append(baseline_train_rmse)\n",
    "    baseline_test_rmse_list.append(baseline_test_rmse)\n",
    "    \n",
    "\n",
    "# Calculate the average RMSE for the baseline and Random Forest models\n",
    "average_baseline_train_rmse = np.mean(baseline_train_rmse_list)\n",
    "average_baseline_test_rmse = np.mean(baseline_test_rmse_list)\n",
    "\n",
    "print(f'Average Baseline Training RMSE: {average_baseline_train_rmse}')\n",
    "print(f'Average Baseline Test RMSE: {average_baseline_test_rmse}')\n"
   ],
   "metadata": {
    "collapsed": false
   },
   "id": "85ce3fd3eddc1507",
   "execution_count": null
  },
  {
   "cell_type": "markdown",
   "source": [
    "#### All combined"
   ],
   "metadata": {
    "collapsed": false
   },
   "id": "76b23d7f1612490d"
  },
  {
   "cell_type": "code",
   "outputs": [],
   "source": [
    "flattened_best_rewards.columns = [\"a\",\"b\",\"c\",\"d\",\"e\",\"f\",\"g\",\"h\",\"beta_match\",\"beta_no_match\"]\n",
    "\n",
    "X = pd.concat([reordered_baseline,flattened_best_rewards,bc_results],axis=1)\n",
    "X.columns = X.columns.astype(str) \n",
    "train_rmse_list = []\n",
    "test_rmse_list = []\n",
    "\n",
    "params = {\n",
    "    'n_estimators': 500,\n",
    "    'max_depth': 10,\n",
    "    'min_samples_split': 5,\n",
    "    'min_samples_leaf': 2,\n",
    "    'max_features': 'sqrt',\n",
    "    'bootstrap': True,\n",
    "    'random_state': 42\n",
    "}\n",
    "\n",
    "for metric in metrics_columns:\n",
    "    y = scales_transformed[metric]\n",
    "\n",
    "    # Split the data into training and testing sets\n",
    "    X_train, X_test, y_train, y_test = train_test_split(X, y, test_size=0.2, random_state=42)\n",
    "    \n",
    "    # Fit the Random Forest model\n",
    "    rf = RandomForestRegressor(**params)\n",
    "    rf.fit(X_train, y_train)\n",
    "    \n",
    "    # Predict and evaluate on the training set\n",
    "    y_train_pred = rf.predict(X_train)\n",
    "    train_rmse = np.sqrt(mean_squared_error(y_train, y_train_pred))\n",
    "    train_rmse_list.append(train_rmse)\n",
    "    \n",
    "    # Predict and evaluate on the test set\n",
    "    y_test_pred = rf.predict(X_test)\n",
    "    test_rmse = np.sqrt(mean_squared_error(y_test, y_test_pred))\n",
    "    test_rmse_list.append(test_rmse)\n",
    "\n",
    "# Calculate the average RMSE\n",
    "average_train_rmse = np.mean(train_rmse_list)\n",
    "average_test_rmse = np.mean(test_rmse_list)\n",
    "\n",
    "print(f'Average Training RMSE: {average_train_rmse}')\n",
    "print(f'Average Test RMSE: {average_test_rmse}')"
   ],
   "metadata": {
    "collapsed": false
   },
   "id": "4d7f29db7d793458",
   "execution_count": null
  },
  {
   "cell_type": "code",
   "outputs": [],
   "source": [
    "\n",
    "X.columns = X.columns.astype(str)  # Ensure all column names are strings\n",
    "\n",
    "train_rmse_list = []\n",
    "test_rmse_list = []\n",
    "\n",
    "params = {\n",
    "    'n_estimators': 100,\n",
    "    'learning_rate': 0.01,\n",
    "    'max_depth': 7,\n",
    "    'min_child_weight': 1,\n",
    "    'subsample': 0.8,\n",
    "    'colsample_bytree': 0.8,\n",
    "    'gamma': 0,\n",
    "    'random_state': 42\n",
    "}\n",
    "\n",
    "for metric in metrics_columns:\n",
    "    y = scales_transformed[metric]\n",
    "\n",
    "    # Split the data into training and testing sets\n",
    "    X_train, X_test, y_train, y_test = train_test_split(X, y, test_size=0.2, random_state=42)\n",
    "    \n",
    "    # Fit the XGBoost model\n",
    "    xgbr = xgb.XGBRegressor(**params)\n",
    "    xgbr.fit(X_train, y_train)\n",
    "    \n",
    "    # Predict and evaluate on the training set\n",
    "    y_train_pred = xgbr.predict(X_train)\n",
    "    train_rmse = np.sqrt(mean_squared_error(y_train, y_train_pred))\n",
    "    train_rmse_list.append(train_rmse)\n",
    "    \n",
    "    # Predict and evaluate on the test set\n",
    "    y_test_pred = xgbr.predict(X_test)\n",
    "    test_rmse = np.sqrt(mean_squared_error(y_test, y_test_pred))\n",
    "    test_rmse_list.append(test_rmse)\n",
    "\n",
    "# Calculate the average RMSE\n",
    "average_train_rmse = np.mean(train_rmse_list)\n",
    "average_test_rmse = np.mean(test_rmse_list)\n",
    "\n",
    "print(f'Average Training RMSE: {average_train_rmse}')\n",
    "print(f'Average Test RMSE: {average_test_rmse}')\n"
   ],
   "metadata": {
    "collapsed": false
   },
   "id": "962fbde9adcb3551",
   "execution_count": null
  }
 ],
 "metadata": {
  "kernelspec": {
   "display_name": "Python 3",
   "language": "python",
   "name": "python3"
  },
  "language_info": {
   "codemirror_mode": {
    "name": "ipython",
    "version": 2
   },
   "file_extension": ".py",
   "mimetype": "text/x-python",
   "name": "python",
   "nbconvert_exporter": "python",
   "pygments_lexer": "ipython2",
   "version": "2.7.6"
  }
 },
 "nbformat": 4,
 "nbformat_minor": 5
}
